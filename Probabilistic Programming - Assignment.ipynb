{
 "cells": [
  {
   "cell_type": "markdown",
   "metadata": {},
   "source": [
    "# [5SSD0] Probabilistic Programming - Assignment\n",
    "\n",
    "### Year: 2022-2023"
   ]
  },
  {
   "cell_type": "code",
   "execution_count": null,
   "metadata": {},
   "outputs": [],
   "source": [
    "# Enter your name and student ID\n",
    "name = \n",
    "ID   = "
   ]
  },
  {
   "cell_type": "markdown",
   "metadata": {},
   "source": [
    "In this assignment, we will go through the Bayesian model design cycle:\n",
    "\n",
    " <img src=\"figures/modelling-procedure.png\" alt=\"\" width=\"600\"> \n",
    "\n",
    "In questions 1 and 2, you will build a simple model, fit it to data and evaluate its performance on future data. You will find that its performance is not great. In question 3, you will improve the model in multiple ways. Finally, in question 4, you will do model selection based on free energy.\n",
    "\n",
    "The final questions will require knowledge from the last probabilistic programming session. But questions 1 and 2 can be done relatively early in the course."
   ]
  },
  {
   "cell_type": "code",
   "execution_count": null,
   "metadata": {},
   "outputs": [],
   "source": [
    "using Pkg\n",
    "Pkg.activate(\".\")\n",
    "Pkg.instantiate();"
   ]
  },
  {
   "cell_type": "code",
   "execution_count": null,
   "metadata": {},
   "outputs": [],
   "source": [
    "using CSV\n",
    "using DataFrames\n",
    "using LinearAlgebra\n",
    "using ProgressMeter\n",
    "using RxInfer\n",
    "using Plots\n",
    "default(label=\"\",\n",
    "        grid=false, \n",
    "        linewidth=3, \n",
    "        markersize=4,\n",
    "        guidefontsize=12, \n",
    "        margins=15Plots.pt)"
   ]
  },
  {
   "cell_type": "markdown",
   "metadata": {},
   "source": [
    "## Problem: Forecasting Air Quality\n",
    "\n",
    "Many Europeans suspect that the air quality in their city is declining. A [recent study](https://doi.org/10.1016/j.snb.2007.09.060) measured the air quality of a major city in North Italy using an electronic nose. The measurements were made in the middle of the city and reflect urban activity. We will inspect the specific chemical concentrations found and build a model to accurately predict CO for future time points."
   ]
  },
  {
   "cell_type": "markdown",
   "metadata": {},
   "source": [
    "![https://www.theguardian.com/environment/2020/apr/07/air-pollution-linked-to-far-higher-covid-19-death-rates-study-finds](figures/air-milan-wide.png)\n",
    "\n",
    "Photograph taken by Claudio Furlan/LaPresse/Zuma Press/Rex/Shutterstock ([link](https://www.theguardian.com/environment/2020/apr/07/air-pollution-linked-to-far-higher-covid-19-death-rates-study-finds))"
   ]
  },
  {
   "cell_type": "markdown",
   "metadata": {},
   "source": [
    "The data can be found here: https://archive.ics.uci.edu/ml/datasets/Air+Quality. I've done some pre-processing and selected the most important features. In this assignment we will infer parameters in a model of the data and predict air quality in the future. For that purpose, the data has been split into past and future."
   ]
  },
  {
   "cell_type": "code",
   "execution_count": null,
   "metadata": {},
   "outputs": [],
   "source": [
    "# Load training data\n",
    "past_data = DataFrame(CSV.File(\"data/airquality_past.csv\"))"
   ]
  },
  {
   "cell_type": "markdown",
   "metadata": {},
   "source": [
    "Let's visualize the carbon monoxide measurements over time."
   ]
  },
  {
   "cell_type": "code",
   "execution_count": null,
   "metadata": {},
   "outputs": [],
   "source": [
    "scatter(past_data[:,1], \n",
    "        past_data[:,2], \n",
    "        size=(900,300), \n",
    "        color=\"black\", \n",
    "        xlabel=\"time\", \n",
    "        ylabel=\"CO (ppm)\",\n",
    "        ylims=[400,2000])"
   ]
  },
  {
   "cell_type": "markdown",
   "metadata": {},
   "source": [
    "## 1. Model specification & parameter estimation\n",
    "\n",
    "We suspect that there is a temporal dependence in this dataset. In other words, the data changes relatively slowly over time and neighbouring data points end up being highly correlated. To exploit this correlation, we will build an _auto-regressive model_ of the form:\n",
    "\n",
    "$$ y_k = \\theta y_{k-1} + \\epsilon_k \\, , $$\n",
    "\n",
    "where the noise $\\epsilon_k$ is drawn from a zero-mean Gaussian with precision parameter $\\tau$: \n",
    "\n",
    "$$ \\epsilon_k \\sim \\mathcal{N}(0, \\tau^{-1}) \\, .$$\n",
    "\n",
    "Tasks:\n",
    "- [1pt] Specify the above equation as a probabilistic model in RxInfer, using $\\tau = 1.0$.\n",
    "- [1pt] Specify and execute an inference procedure to infer a posterior distribution for $\\theta$.\n",
    "- [1pt] Plot the inferred distribution over the interval $[0,\\ 2]$."
   ]
  },
  {
   "cell_type": "code",
   "execution_count": null,
   "metadata": {},
   "outputs": [],
   "source": [
    "### YOUR CODE HERE"
   ]
  },
  {
   "cell_type": "markdown",
   "metadata": {},
   "source": [
    "## 2. Predictions & model evaluation\n",
    "\n",
    "We want to evaluate the parameters inferred under the model. For now, we will do this by visually inspecting the 1-step ahead predictions on our data set. Later, we will use free energy as a metric. \n",
    "\n",
    "The posterior predictive distribution for the next time step is:\n",
    "\n",
    "$$ p(y_{t+1} \\mid y_{t}, \\mathcal{D}) = \\int p(y_{t+1} \\mid \\theta, y_{t}) p(\\theta \\mid \\mathcal{D}) \\, \\mathrm{d}\\theta \\, , $$\n",
    "\n",
    "where $\\mathcal{D}$ refers to the data used to infer the posterior distribution. To make 1-step ahead predictions, you will have to loop over the data (i.e., `for t in 1:T`), plug in the current data point and compute the parameters of the posterior predictive distribution for the next data point. You may start from $t=2$, using $y_1$ as initial \"previous observation\". \n",
    "\n",
    "Tasks:\n",
    "- [1pt] Derive the parameters of the posterior predictive and compute the 1-step ahead predictions on the data set.\n",
    "- [1pt] Plot the first 10 predictions (posterior predictive variance in `ribbon=`) along with $y_{2:11}$ (scatterplot).\n",
    "\n",
    "---\n",
    "\n",
    "Note that if you failed to infer a posterior distribution in the previous question, you can still answer this question using a standard normal, $p(\\theta) = \\mathcal{N}(0,1)$."
   ]
  },
  {
   "cell_type": "code",
   "execution_count": null,
   "metadata": {},
   "outputs": [],
   "source": [
    "### YOUR CODE HERE"
   ]
  },
  {
   "cell_type": "markdown",
   "metadata": {},
   "source": [
    "## 3. Model critiqueing & improvement\n",
    "\n",
    "From the results of the previous question, you may conclude that our initial model isn't great: it only considers extremely short-term changes, which are highly affected by noise. \n",
    "\n",
    "The model can be improved in two ways:\n",
    "1. We set the noise level $\\tau$ to $1.0$ but that was based on convenience, not on domain expertise or data. You are going to put a prior probability distribution over $\\tau$ and infer a posterior $p(\\tau \\mid \\mathcal{D})$ simultaneously. \n",
    "2. We can consider changes over longer periods of time by increasing the model order of the auto-regressive model. That corresponds to:\n",
    "\n",
    "$$ y_k = \\sum_{m=1}^{M} \\theta_m y_{k-m} + \\epsilon_k \\, ,$$\n",
    "\n",
    "where $M$ corresponds to model order.\n",
    "\n",
    "Tasks:\n",
    "- [1pt] Specify a higher-order AR model with an order parameter $M$, and with noise precision as a random variable.\n",
    "- [1pt] Infer the approximate posteriors for $\\theta$ and $\\tau$, for model order $M=3$.\n",
    "- [1pt] Visualize the posterior for the noise distribution $q(\\tau)$ and the 1-step ahead predictions (mean and variance) on the data."
   ]
  },
  {
   "cell_type": "code",
   "execution_count": null,
   "metadata": {},
   "outputs": [],
   "source": [
    "# Number of iterations of variational inference\n",
    "n_iters = 10;\n",
    "\n",
    "# Model order\n",
    "M = 5;"
   ]
  },
  {
   "cell_type": "code",
   "execution_count": null,
   "metadata": {},
   "outputs": [],
   "source": [
    "### YOUR CODE HERE"
   ]
  },
  {
   "cell_type": "markdown",
   "metadata": {},
   "source": [
    "## 4. Model selection & deployment\n",
    "\n",
    "We now essentially have a different model for each value of $M$. Which is the best?\n",
    "\n",
    "Tasks:\n",
    "- [1pt] Compute the free energies for a given range of model orders and report the best performing one.\n",
    "- [1pt] Deploy the best model (i.e., compute 1-step ahead predictions) on future data."
   ]
  },
  {
   "cell_type": "code",
   "execution_count": null,
   "metadata": {},
   "outputs": [],
   "source": [
    "# Model order range\n",
    "model_orders = [2,4,8,16,32];"
   ]
  },
  {
   "cell_type": "code",
   "execution_count": null,
   "metadata": {},
   "outputs": [],
   "source": [
    "### YOUR CODE HERE"
   ]
  },
  {
   "cell_type": "code",
   "execution_count": null,
   "metadata": {},
   "outputs": [],
   "source": [
    "# Load test data\n",
    "future_data = DataFrame(CSV.File(\"data/airquality_future.csv\"))"
   ]
  },
  {
   "cell_type": "code",
   "execution_count": null,
   "metadata": {},
   "outputs": [],
   "source": [
    "### YOUR CODE HERE"
   ]
  },
  {
   "cell_type": "markdown",
   "metadata": {},
   "source": [
    "## Submission\n",
    "\n",
    "Before you submit the assignment, **make sure your notebook runs correctly**! You can do that by going to the `Kernel` tab in the toolbar and pressing `Restart & Run All`. \n",
    "\n",
    "This is important! If your code doesn't run, we can't verify the correctness of your answer.\n",
    "\n",
    "When you're ready, head on over to Canvas and upload your notebook."
   ]
  }
 ],
 "metadata": {
  "@webio": {
   "lastCommId": null,
   "lastKernelId": null
  },
  "kernelspec": {
   "display_name": "Julia 1.8.1",
   "language": "julia",
   "name": "julia-1.8"
  },
  "language_info": {
   "file_extension": ".jl",
   "mimetype": "application/julia",
   "name": "julia",
   "version": "1.8.1"
  }
 },
 "nbformat": 4,
 "nbformat_minor": 4
}
